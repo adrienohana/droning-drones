{
 "cells": [
  {
   "cell_type": "code",
   "execution_count": 2,
   "metadata": {},
   "outputs": [],
   "source": [
    "import numpy as np\n",
    "from matplotlib import pyplot as plt\n",
    "import pandas as pd"
   ]
  },
  {
   "cell_type": "code",
   "execution_count": 3,
   "metadata": {},
   "outputs": [],
   "source": [
    "MIN_CMD = 20000\n",
    "MAX_CMD = 65535\n",
    "HOVER_CMD =38726.7"
   ]
  },
  {
   "cell_type": "code",
   "execution_count": 5,
   "metadata": {},
   "outputs": [],
   "source": [
    "def cmd_to_freq(cmd):\n",
    "    return 3.43703919 * np.sqrt(cmd) - 38.06894012"
   ]
  },
  {
   "cell_type": "code",
   "execution_count": 4,
   "metadata": {},
   "outputs": [],
   "source": [
    "def semitones_to_freq(f1,n_semitones):\n",
    "    return np.power(2,(n_semitones*100/1200))*f1"
   ]
  },
  {
   "cell_type": "code",
   "execution_count": 5,
   "metadata": {
    "tags": []
   },
   "outputs": [],
   "source": [
    "def find_note_range(min_freq, max_freq, c_freq):\n",
    "    intervals = []\n",
    "    freqs = []\n",
    "    intervals.append(0)\n",
    "    freqs.append(c_freq)\n",
    "    i = 1\n",
    "    while semitones_to_freq(c_freq,i) < max_freq : \n",
    "        intervals.append(i)\n",
    "        freqs.append(semitones_to_freq(c_freq,i))\n",
    "        i = i+1\n",
    "    j = -1\n",
    "    while semitones_to_freq(c_freq,j) > min_freq : \n",
    "        intervals.append(j)\n",
    "        freqs.append(semitones_to_freq(c_freq,j))\n",
    "        j = j-1\n",
    "    return pd.DataFrame({'interval_no': sorted(intervals),'interval_freq': sorted(freqs)})\n",
    "        "
   ]
  },
  {
   "cell_type": "code",
   "execution_count": 6,
   "metadata": {},
   "outputs": [
    {
     "data": {
      "text/plain": [
       "448.0018035705838"
      ]
     },
     "execution_count": 6,
     "metadata": {},
     "output_type": "execute_result"
    }
   ],
   "source": [
    "MIN_FREQ = cmd_to_freq(MIN_CMD)\n",
    "MIN_FREQ"
   ]
  },
  {
   "cell_type": "code",
   "execution_count": 7,
   "metadata": {},
   "outputs": [
    {
     "data": {
      "text/plain": [
       "841.806379527224"
      ]
     },
     "execution_count": 7,
     "metadata": {},
     "output_type": "execute_result"
    }
   ],
   "source": [
    "MAX_FREQ = cmd_to_freq(MAX_CMD)\n",
    "MAX_FREQ"
   ]
  },
  {
   "cell_type": "markdown",
   "metadata": {},
   "source": [
    "### CASE 1 :  C is HOVER_FREQ"
   ]
  },
  {
   "cell_type": "code",
   "execution_count": 8,
   "metadata": {},
   "outputs": [
    {
     "data": {
      "text/plain": [
       "638.3094593704543"
      ]
     },
     "execution_count": 8,
     "metadata": {},
     "output_type": "execute_result"
    }
   ],
   "source": [
    "HOVER_FREQ = cmd_to_freq(HOVER_CMD)\n",
    "HOVER_FREQ"
   ]
  },
  {
   "cell_type": "code",
   "execution_count": 9,
   "metadata": {},
   "outputs": [],
   "source": [
    "intervals1 = find_note_range(MIN_FREQ, MAX_FREQ, HOVER_FREQ)"
   ]
  },
  {
   "cell_type": "code",
   "execution_count": 10,
   "metadata": {},
   "outputs": [
    {
     "data": {
      "text/html": [
       "<div>\n",
       "<style scoped>\n",
       "    .dataframe tbody tr th:only-of-type {\n",
       "        vertical-align: middle;\n",
       "    }\n",
       "\n",
       "    .dataframe tbody tr th {\n",
       "        vertical-align: top;\n",
       "    }\n",
       "\n",
       "    .dataframe thead th {\n",
       "        text-align: right;\n",
       "    }\n",
       "</style>\n",
       "<table border=\"1\" class=\"dataframe\">\n",
       "  <thead>\n",
       "    <tr style=\"text-align: right;\">\n",
       "      <th></th>\n",
       "      <th>interval_no</th>\n",
       "      <th>interval_freq</th>\n",
       "    </tr>\n",
       "  </thead>\n",
       "  <tbody>\n",
       "    <tr>\n",
       "      <th>0</th>\n",
       "      <td>-6</td>\n",
       "      <td>451.352947</td>\n",
       "    </tr>\n",
       "    <tr>\n",
       "      <th>1</th>\n",
       "      <td>-5</td>\n",
       "      <td>478.191790</td>\n",
       "    </tr>\n",
       "    <tr>\n",
       "      <th>2</th>\n",
       "      <td>-4</td>\n",
       "      <td>506.626554</td>\n",
       "    </tr>\n",
       "    <tr>\n",
       "      <th>3</th>\n",
       "      <td>-3</td>\n",
       "      <td>536.752136</td>\n",
       "    </tr>\n",
       "    <tr>\n",
       "      <th>4</th>\n",
       "      <td>-2</td>\n",
       "      <td>568.669079</td>\n",
       "    </tr>\n",
       "    <tr>\n",
       "      <th>5</th>\n",
       "      <td>-1</td>\n",
       "      <td>602.483902</td>\n",
       "    </tr>\n",
       "    <tr>\n",
       "      <th>6</th>\n",
       "      <td>0</td>\n",
       "      <td>638.309459</td>\n",
       "    </tr>\n",
       "    <tr>\n",
       "      <th>7</th>\n",
       "      <td>1</td>\n",
       "      <td>676.265315</td>\n",
       "    </tr>\n",
       "    <tr>\n",
       "      <th>8</th>\n",
       "      <td>2</td>\n",
       "      <td>716.478143</td>\n",
       "    </tr>\n",
       "    <tr>\n",
       "      <th>9</th>\n",
       "      <td>3</td>\n",
       "      <td>759.082151</td>\n",
       "    </tr>\n",
       "    <tr>\n",
       "      <th>10</th>\n",
       "      <td>4</td>\n",
       "      <td>804.219524</td>\n",
       "    </tr>\n",
       "  </tbody>\n",
       "</table>\n",
       "</div>"
      ],
      "text/plain": [
       "    interval_no  interval_freq\n",
       "0            -6     451.352947\n",
       "1            -5     478.191790\n",
       "2            -4     506.626554\n",
       "3            -3     536.752136\n",
       "4            -2     568.669079\n",
       "5            -1     602.483902\n",
       "6             0     638.309459\n",
       "7             1     676.265315\n",
       "8             2     716.478143\n",
       "9             3     759.082151\n",
       "10            4     804.219524"
      ]
     },
     "execution_count": 10,
     "metadata": {},
     "output_type": "execute_result"
    }
   ],
   "source": [
    "intervals1"
   ]
  },
  {
   "cell_type": "markdown",
   "metadata": {},
   "source": [
    "### CASE2 : ALL CASES"
   ]
  },
  {
   "cell_type": "code",
   "execution_count": 11,
   "metadata": {},
   "outputs": [],
   "source": [
    "c_freqs = np.linspace(MIN_FREQ, MAX_FREQ, 10000)"
   ]
  },
  {
   "cell_type": "code",
   "execution_count": 12,
   "metadata": {},
   "outputs": [
    {
     "data": {
      "text/plain": [
       "array([448.00180357, 448.04118797, 448.08057236, ..., 841.72761074,\n",
       "       841.76699513, 841.80637953])"
      ]
     },
     "execution_count": 12,
     "metadata": {},
     "output_type": "execute_result"
    }
   ],
   "source": [
    "c_freqs"
   ]
  },
  {
   "cell_type": "code",
   "execution_count": 13,
   "metadata": {},
   "outputs": [],
   "source": [
    "all_intervals = pd.DataFrame({'c_freqs': c_freqs})"
   ]
  },
  {
   "cell_type": "code",
   "execution_count": 14,
   "metadata": {},
   "outputs": [],
   "source": [
    "all_intervals['n_intervals'] = all_intervals.c_freqs.apply(lambda x : len( find_note_range(MIN_FREQ, MAX_FREQ, x)))\n",
    "all_intervals['max_up'] = all_intervals.c_freqs.apply(lambda x : find_note_range(MIN_FREQ, MAX_FREQ, x).interval_no.max())\n",
    "all_intervals['max_down'] = all_intervals.c_freqs.apply(lambda x : find_note_range(MIN_FREQ, MAX_FREQ, x).interval_no.min())"
   ]
  },
  {
   "cell_type": "code",
   "execution_count": 15,
   "metadata": {},
   "outputs": [
    {
     "data": {
      "image/png": "[encoded data removed]",
      "text/plain": [
       "<Figure size 432x288 with 1 Axes>"
      ]
     },
     "metadata": {
      "needs_background": "light"
     },
     "output_type": "display_data"
    }
   ],
   "source": [
    "plt.plot(all_intervals.c_freqs, all_intervals.n_intervals, label = 'total no. of notes')\n",
    "plt.plot(all_intervals.c_freqs, all_intervals.max_up, label = 'no. of notes up')\n",
    "plt.plot(all_intervals.c_freqs, -all_intervals.max_down, label = 'no. of notes down')\n",
    "plt.vlines(HOVER_FREQ, 0, 11, colors = 'red', label= 'hover frequency')\n",
    "plt.legend()\n",
    "plt.title('No. of playable notes starting at a given frequency')\n",
    "plt.show()"
   ]
  },
  {
   "cell_type": "code",
   "execution_count": null,
   "metadata": {},
   "outputs": [],
   "source": []
  },
  {
   "cell_type": "markdown",
   "metadata": {},
   "source": [
    "### 2 NOTES CHORD STUDY"
   ]
  },
  {
   "cell_type": "code",
   "execution_count": 16,
   "metadata": {},
   "outputs": [],
   "source": [
    "def cmd2_to_hover(cmd1):\n",
    "    cmd2 = HOVER_CMD + (HOVER_CMD-cmd1)\n",
    "    return HOVER_CMD + (HOVER_CMD-cmd1)"
   ]
  },
  {
   "cell_type": "code",
   "execution_count": 17,
   "metadata": {},
   "outputs": [],
   "source": [
    "EPSILON = 2\n",
    "def perceivable_freq_range(freq):\n",
    "    return semitones_to_freq(freq,-EPSILON/100),semitones_to_freq(freq,+EPSILON/100)"
   ]
  },
  {
   "cell_type": "code",
   "execution_count": 18,
   "metadata": {},
   "outputs": [],
   "source": [
    "def is_interval(freq1,freq2):\n",
    "    allowed_freqs = find_note_range(MIN_FREQ,MAX_FREQ,freq1)\n",
    "    #print(allowed_freqs)\n",
    "    interval_no = 0\n",
    "    for allowed_freq in allowed_freqs['interval_freq']:\n",
    "        min_freq2, max_freq2 = perceivable_freq_range(freq2)\n",
    "        #print(\"testing \" + str(allowed_freq) +  ' Hz')\n",
    "        if allowed_freq <= max_freq2 and allowed_freq >= min_freq2:\n",
    "            #print(allowed_freqs[allowed_freqs['interval_freq'] == freq2])\n",
    "            #print('allowed_freq, freq1, freq2 : ')\n",
    "            #print(allowed_freq, freq1, freq2)\n",
    "            interval_no = allowed_freqs[allowed_freqs['interval_freq'] == allowed_freq]['interval_no'].item()\n",
    "            #print('IS INTERVAL ! interval no : ', interval_no)\n",
    "    return [freq1, freq2, interval_no]\n",
    "        "
   ]
  },
  {
   "cell_type": "code",
   "execution_count": 19,
   "metadata": {},
   "outputs": [],
   "source": [
    "cmds = np.linspace(MIN_CMD, MAX_CMD, 10000)"
   ]
  },
  {
   "cell_type": "code",
   "execution_count": 20,
   "metadata": {},
   "outputs": [],
   "source": [
    "PWM2RPM_SCALE = 0.2685\n",
    "PWM2RPM_CONST = 4070.3\n",
    "def cmd_to_rpm(cmd):\n",
    "    return PWM2RPM_SCALE * cmd + PWM2RPM_CONST\n",
    "def rpm_to_cmd(rpm):\n",
    "    return (rpm - PWM2RPM_CONST)/PWM2RPM_SCALE"
   ]
  },
  {
   "cell_type": "code",
   "execution_count": 21,
   "metadata": {},
   "outputs": [],
   "source": [
    "HOVER_RPM = cmd_to_rpm(HOVER_CMD)"
   ]
  },
  {
   "cell_type": "code",
   "execution_count": 22,
   "metadata": {},
   "outputs": [],
   "source": [
    "def cmd2_to_hover_quadratic(cmd1):\n",
    "    rpm1 = cmd_to_rpm(cmd1)\n",
    "    if 2*(np.power(HOVER_RPM,2) - 0.5*np.power(rpm1,2)) < 0:\n",
    "        print('command : ', cmd1, '  leads to negative rpm')\n",
    "        return -1\n",
    "    else:\n",
    "        rpm2 = np.sqrt(2*(np.power(HOVER_RPM,2) - 0.5*np.power(rpm1,2)))\n",
    "        return rpm_to_cmd(rpm2)"
   ]
  },
  {
   "cell_type": "code",
   "execution_count": 23,
   "metadata": {},
   "outputs": [],
   "source": [
    "def freq_to_cmd(freq):\n",
    "    return np.power((1/3.43703919)*( freq + 38.06894012),2)"
   ]
  },
  {
   "cell_type": "code",
   "execution_count": 24,
   "metadata": {
    "tags": []
   },
   "outputs": [],
   "source": [
    "cmds1 = []\n",
    "cmds2 = []\n",
    "cmds1_good = []\n",
    "cmds2_good = []\n",
    "interval_list_ids = []\n",
    "interval_list = []\n",
    "prev_int_no = 0\n",
    "for cmd1_id, cmd1 in enumerate(cmds):\n",
    "    cmd2 = cmd2_to_hover_quadratic(cmd1)\n",
    "    if cmd2 < 0:\n",
    "        break\n",
    "    cmds1.append(cmd1)\n",
    "    cmds2.append(cmd2)\n",
    "    if cmd2 <= MAX_CMD and cmd2 >= MIN_CMD and cmd2 >=0 :\n",
    "            temp = is_interval(cmd_to_freq(cmd2),cmd_to_freq(cmd1))\n",
    "            int_no = temp[2]\n",
    "            if int_no != 0:\n",
    "                if int_no!=prev_int_no:\n",
    "                    interval_list.append(temp)\n",
    "                    cmds1_good.append(freq_to_cmd(temp[0]))\n",
    "                    cmds2_good.append(freq_to_cmd(temp[1]))\n",
    "                    interval_list_ids.append(cmd1_id)\n",
    "                    prev_int_no = int_no\n",
    "                "
   ]
  },
  {
   "cell_type": "code",
   "execution_count": 25,
   "metadata": {},
   "outputs": [
    {
     "data": {
      "text/plain": [
       "[[742.5701892461574, 467.26529474637283, -8],\n",
       " [734.1543238828257, 489.4537553114486, -7],\n",
       " [724.5795997228537, 511.77416080760725, -6],\n",
       " [713.7135175176561, 534.117060524736, -5],\n",
       " [701.5066957412661, 556.2084055018281, -4],\n",
       " [687.9214646029178, 577.8132616279339, -3],\n",
       " [672.8731052852181, 598.8122106629414, -2],\n",
       " [656.4536584061674, 618.8949342680801, -1],\n",
       " [619.6715455608761, 655.7736341567092, 1],\n",
       " [599.577714658502, 672.2859063826587, 2],\n",
       " [578.6102262207957, 687.3855264873151, 3],\n",
       " [556.9821213002127, 701.049895053906, 4],\n",
       " [534.9410656200449, 713.2857179432585, 5],\n",
       " [512.6105789542107, 724.1970824303945, 6],\n",
       " [490.3178867176041, 733.8053089468008, 7],\n",
       " [468.127431637266, 742.2619607088968, 8]]"
      ]
     },
     "execution_count": 25,
     "metadata": {},
     "output_type": "execute_result"
    }
   ],
   "source": [
    "interval_list"
   ]
  },
  {
   "cell_type": "code",
   "execution_count": 26,
   "metadata": {},
   "outputs": [
    {
     "data": {
      "text/plain": [
       "<matplotlib.legend.Legend at 0x7fad4104e8b0>"
      ]
     },
     "execution_count": 26,
     "metadata": {},
     "output_type": "execute_result"
    },
    {
     "data": {
      "image/png": "[encoded data removed]",
      "text/plain": [
       "<Figure size 432x288 with 1 Axes>"
      ]
     },
     "metadata": {
      "needs_background": "light"
     },
     "output_type": "display_data"
    }
   ],
   "source": [
    "plt.plot(cmds1, label = 'pair 1 command', color = 'black')\n",
    "plt.plot(cmds2, label = 'pair 2 command', color = 'blue')\n",
    "plt.scatter(interval_list_ids+interval_list_ids, cmds1_good+cmds2_good, label = 'existing intervals', marker='o', color = 'red')\n",
    "plt.legend()\n",
    "#x axis is index"
   ]
  },
  {
   "cell_type": "code",
   "execution_count": 27,
   "metadata": {},
   "outputs": [
    {
     "data": {
      "text/plain": [
       "[51585.97752737439,\n",
       " 50479.70332931376,\n",
       " 49235.67746163059,\n",
       " 47842.66978969166,\n",
       " 46301.62390154745,\n",
       " 44616.222088218805,\n",
       " 42785.777708419184,\n",
       " 40832.2954123262,\n",
       " 36621.84170754111,\n",
       " 34418.44165022816,\n",
       " 32192.12052852007,\n",
       " 29973.640918757486,\n",
       " 27794.280936225314,\n",
       " 25670.17803451757,\n",
       " 23633.878321364187,\n",
       " 21690.476247320054]"
      ]
     },
     "execution_count": 27,
     "metadata": {},
     "output_type": "execute_result"
    }
   ],
   "source": [
    "cmds1_good"
   ]
  },
  {
   "cell_type": "code",
   "execution_count": 28,
   "metadata": {},
   "outputs": [
    {
     "data": {
      "text/plain": [
       "[21616.654165416538,\n",
       " 23556.639163916392,\n",
       " 25592.25722572257,\n",
       " 27714.400440044006,\n",
       " 29895.745074507457,\n",
       " 32108.967396739674,\n",
       " 34335.85158515852,\n",
       " 36535.41204120413,\n",
       " 40752.37473747374,\n",
       " 42715.129512951295,\n",
       " 44550.37353735374,\n",
       " 46244.44494449444,\n",
       " 47788.23582358237,\n",
       " 49186.30013001301,\n",
       " 50434.08390839083,\n",
       " 51545.2490249025]"
      ]
     },
     "execution_count": 28,
     "metadata": {},
     "output_type": "execute_result"
    }
   ],
   "source": [
    "cmds2_good"
   ]
  },
  {
   "cell_type": "markdown",
   "metadata": {},
   "source": [
    "# Generate scale of commands starting at hovering frequency"
   ]
  },
  {
   "cell_type": "code",
   "execution_count": 29,
   "metadata": {},
   "outputs": [],
   "source": [
    "intervals1['interval_cmd'] = intervals1.interval_freq.apply(lambda x : freq_to_cmd(x))\n",
    "intervals1['interval_rpm'] = intervals1.interval_cmd.apply(lambda x : cmd_to_rpm(x))"
   ]
  },
  {
   "cell_type": "code",
   "execution_count": 30,
   "metadata": {},
   "outputs": [
    {
     "data": {
      "text/html": [
       "<div>\n",
       "<style scoped>\n",
       "    .dataframe tbody tr th:only-of-type {\n",
       "        vertical-align: middle;\n",
       "    }\n",
       "\n",
       "    .dataframe tbody tr th {\n",
       "        vertical-align: top;\n",
       "    }\n",
       "\n",
       "    .dataframe thead th {\n",
       "        text-align: right;\n",
       "    }\n",
       "</style>\n",
       "<table border=\"1\" class=\"dataframe\">\n",
       "  <thead>\n",
       "    <tr style=\"text-align: right;\">\n",
       "      <th></th>\n",
       "      <th>interval_no</th>\n",
       "      <th>interval_freq</th>\n",
       "      <th>interval_cmd</th>\n",
       "      <th>interval_rpm</th>\n",
       "    </tr>\n",
       "  </thead>\n",
       "  <tbody>\n",
       "    <tr>\n",
       "      <th>0</th>\n",
       "      <td>-6</td>\n",
       "      <td>451.352947</td>\n",
       "      <td>20276.724792</td>\n",
       "      <td>9514.600607</td>\n",
       "    </tr>\n",
       "    <tr>\n",
       "      <th>1</th>\n",
       "      <td>-5</td>\n",
       "      <td>478.191790</td>\n",
       "      <td>22561.564636</td>\n",
       "      <td>10128.080105</td>\n",
       "    </tr>\n",
       "    <tr>\n",
       "      <th>2</th>\n",
       "      <td>-4</td>\n",
       "      <td>506.626554</td>\n",
       "      <td>25115.313095</td>\n",
       "      <td>10813.761566</td>\n",
       "    </tr>\n",
       "    <tr>\n",
       "      <th>3</th>\n",
       "      <td>-3</td>\n",
       "      <td>536.752136</td>\n",
       "      <td>27970.253268</td>\n",
       "      <td>11580.313003</td>\n",
       "    </tr>\n",
       "    <tr>\n",
       "      <th>4</th>\n",
       "      <td>-2</td>\n",
       "      <td>568.669079</td>\n",
       "      <td>31162.583175</td>\n",
       "      <td>12437.453582</td>\n",
       "    </tr>\n",
       "    <tr>\n",
       "      <th>5</th>\n",
       "      <td>-1</td>\n",
       "      <td>602.483902</td>\n",
       "      <td>34732.892894</td>\n",
       "      <td>13396.081742</td>\n",
       "    </tr>\n",
       "    <tr>\n",
       "      <th>6</th>\n",
       "      <td>0</td>\n",
       "      <td>638.309459</td>\n",
       "      <td>38726.700000</td>\n",
       "      <td>14468.418950</td>\n",
       "    </tr>\n",
       "    <tr>\n",
       "      <th>7</th>\n",
       "      <td>1</td>\n",
       "      <td>676.265315</td>\n",
       "      <td>43195.050418</td>\n",
       "      <td>15668.171037</td>\n",
       "    </tr>\n",
       "    <tr>\n",
       "      <th>8</th>\n",
       "      <td>2</td>\n",
       "      <td>716.478143</td>\n",
       "      <td>48195.192716</td>\n",
       "      <td>17010.709244</td>\n",
       "    </tr>\n",
       "    <tr>\n",
       "      <th>9</th>\n",
       "      <td>3</td>\n",
       "      <td>759.082151</td>\n",
       "      <td>53791.334802</td>\n",
       "      <td>18513.273394</td>\n",
       "    </tr>\n",
       "    <tr>\n",
       "      <th>10</th>\n",
       "      <td>4</td>\n",
       "      <td>804.219524</td>\n",
       "      <td>60055.493126</td>\n",
       "      <td>20195.199904</td>\n",
       "    </tr>\n",
       "  </tbody>\n",
       "</table>\n",
       "</div>"
      ],
      "text/plain": [
       "    interval_no  interval_freq  interval_cmd  interval_rpm\n",
       "0            -6     451.352947  20276.724792   9514.600607\n",
       "1            -5     478.191790  22561.564636  10128.080105\n",
       "2            -4     506.626554  25115.313095  10813.761566\n",
       "3            -3     536.752136  27970.253268  11580.313003\n",
       "4            -2     568.669079  31162.583175  12437.453582\n",
       "5            -1     602.483902  34732.892894  13396.081742\n",
       "6             0     638.309459  38726.700000  14468.418950\n",
       "7             1     676.265315  43195.050418  15668.171037\n",
       "8             2     716.478143  48195.192716  17010.709244\n",
       "9             3     759.082151  53791.334802  18513.273394\n",
       "10            4     804.219524  60055.493126  20195.199904"
      ]
     },
     "execution_count": 30,
     "metadata": {},
     "output_type": "execute_result"
    }
   ],
   "source": [
    "intervals1"
   ]
  },
  {
   "cell_type": "code",
   "execution_count": 31,
   "metadata": {},
   "outputs": [],
   "source": [
    "major_up_intervals = [0,2,4]\n",
    "major_down_intervals = [0,-1,-3, -5]\n",
    "minor_up_intervals = [0,2,3]\n",
    "minor_down_intervals = [0,-2,-3, -5]"
   ]
  },
  {
   "cell_type": "code",
   "execution_count": 32,
   "metadata": {},
   "outputs": [],
   "source": [
    "major_up = [intervals1[intervals1.interval_no == i].interval_cmd.item() for i in major_up_intervals]\n",
    "major_down = [intervals1[intervals1.interval_no == i].interval_cmd.item() for i in major_down_intervals]\n",
    "minor_up = [intervals1[intervals1.interval_no == i].interval_cmd.item() for i in minor_up_intervals]\n",
    "minor_down = [intervals1[intervals1.interval_no == i].interval_cmd.item() for i in minor_down_intervals]"
   ]
  },
  {
   "cell_type": "code",
   "execution_count": 33,
   "metadata": {},
   "outputs": [
    {
     "data": {
      "text/plain": [
       "[38726.7, 48195.19271581488, 60055.49312577782]"
      ]
     },
     "execution_count": 33,
     "metadata": {},
     "output_type": "execute_result"
    }
   ],
   "source": [
    "major_up"
   ]
  },
  {
   "cell_type": "code",
   "execution_count": 34,
   "metadata": {},
   "outputs": [
    {
     "data": {
      "text/plain": [
       "[38726.7, 34732.892894114884, 27970.253268488214, 22561.564635655854]"
      ]
     },
     "execution_count": 34,
     "metadata": {},
     "output_type": "execute_result"
    }
   ],
   "source": [
    "major_down"
   ]
  },
  {
   "cell_type": "code",
   "execution_count": 35,
   "metadata": {},
   "outputs": [
    {
     "data": {
      "text/plain": [
       "[38726.7, 48195.19271581488, 53791.33480208646]"
      ]
     },
     "execution_count": 35,
     "metadata": {},
     "output_type": "execute_result"
    }
   ],
   "source": [
    "minor_up"
   ]
  },
  {
   "cell_type": "code",
   "execution_count": 36,
   "metadata": {},
   "outputs": [
    {
     "data": {
      "text/plain": [
       "[38726.7, 31162.583174734853, 27970.253268488214, 22561.564635655854]"
      ]
     },
     "execution_count": 36,
     "metadata": {},
     "output_type": "execute_result"
    }
   ],
   "source": [
    "minor_down"
   ]
  },
  {
   "cell_type": "code",
   "execution_count": null,
   "metadata": {},
   "outputs": [],
   "source": []
  },
  {
   "cell_type": "code",
   "execution_count": 37,
   "metadata": {},
   "outputs": [],
   "source": [
    "import time\n",
    "\n",
    "from pysinewave import SineWave\n",
    "#frequency = 440 * 2^((pitch-9)/2)\n",
    "#log_2(frequency/440)*2 + 9 = pitch\n",
    "# Create a sine wave\n",
    "sinewave = SineWave(pitch= 20)\n",
    "#sinewave.set_frequency(HOVER_FREQ)\n",
    "# Turn the sine wave on.\n",
    "sinewave.play()\n",
    "time.sleep(3)\n",
    "sinewave.stop()"
   ]
  },
  {
   "cell_type": "code",
   "execution_count": 10,
   "metadata": {},
   "outputs": [],
   "source": [
    "import math\n",
    "def freq_to_pitch(freq):\n",
    "    return math.log(freq/440, 2.0)*2+9"
   ]
  },
  {
   "cell_type": "code",
   "execution_count": 39,
   "metadata": {},
   "outputs": [
    {
     "data": {
      "text/plain": [
       "9.052002033124369"
      ]
     },
     "execution_count": 39,
     "metadata": {},
     "output_type": "execute_result"
    }
   ],
   "source": [
    "freq_to_pitch(MIN_FREQ)"
   ]
  },
  {
   "cell_type": "code",
   "execution_count": 40,
   "metadata": {},
   "outputs": [
    {
     "data": {
      "text/plain": [
       "10.871969838518591"
      ]
     },
     "execution_count": 40,
     "metadata": {},
     "output_type": "execute_result"
    }
   ],
   "source": [
    "freq_to_pitch(MAX_FREQ)"
   ]
  },
  {
   "cell_type": "code",
   "execution_count": 11,
   "metadata": {},
   "outputs": [],
   "source": [
    "import time"
   ]
  },
  {
   "cell_type": "code",
   "execution_count": 22,
   "metadata": {},
   "outputs": [],
   "source": [
    "from pysinewave import SineWave\n",
    "sinewave = SineWave(pitch= HOVER_FREQ, pitch_per_second=10000)\n",
    "sinewave.set_pitch(freq_to_pitch(HOVER_FREQ))\n",
    "sinewave.play()\n",
    "time.sleep(2)\n",
    "sinewave.stop()\n",
    "time.sleep(2)\n",
    "sinewave.set_pitch(freq_to_pitch(MAX_FREQ))\n",
    "sinewave.play()"
   ]
  },
  {
   "cell_type": "code",
   "execution_count": 43,
   "metadata": {},
   "outputs": [],
   "source": [
    "sinewave.play()"
   ]
  },
  {
   "cell_type": "code",
   "execution_count": 23,
   "metadata": {},
   "outputs": [],
   "source": [
    "sinewave.stop()"
   ]
  },
  {
   "cell_type": "code",
   "execution_count": null,
   "metadata": {},
   "outputs": [],
   "source": []
  }
 ],
 "metadata": {
  "kernelspec": {
   "display_name": "Python 3",
   "language": "python",
   "name": "python3"
  },
  "language_info": {
   "codemirror_mode": {
    "name": "ipython",
    "version": 3
   },
   "file_extension": ".py",
   "mimetype": "text/x-python",
   "name": "python",
   "nbconvert_exporter": "python",
   "pygments_lexer": "ipython3",
   "version": "3.8.5"
  }
 },
 "nbformat": 4,
 "nbformat_minor": 4
}
